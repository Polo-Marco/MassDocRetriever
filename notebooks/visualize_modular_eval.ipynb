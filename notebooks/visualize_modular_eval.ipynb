{
 "cells": [
  {
   "cell_type": "code",
   "execution_count": 1,
   "id": "16d19984-177e-45ff-be6c-49b848d9a191",
   "metadata": {},
   "outputs": [],
   "source": [
    "import os\n",
    "os.chdir(\"../\")"
   ]
  },
  {
   "cell_type": "code",
   "execution_count": 7,
   "id": "5106b072-44cb-4f68-b42e-4b4ae659c105",
   "metadata": {},
   "outputs": [],
   "source": [
    "from evaluation.eval_utils import show_retrieval_metrics\n",
    "import json\n",
    "def load_examples(json_path):\n",
    "    with open(json_path, \"r\", encoding=\"utf-8\") as f:\n",
    "        return json.load(f)\n"
   ]
  },
  {
   "cell_type": "code",
   "execution_count": 4,
   "id": "0ab9cc32-4d79-48d5-a7ca-fd837a2555f0",
   "metadata": {},
   "outputs": [],
   "source": [
    "result = load_examples(\"results/qwen-100_lpert-5_qwen06-100_lpert-5_qwen4.json\")"
   ]
  },
  {
   "cell_type": "code",
   "execution_count": 6,
   "id": "cd42ebee-271c-4e13-a734-7c6645d7f80d",
   "metadata": {},
   "outputs": [
    {
     "data": {
      "text/plain": [
       "dict_keys(['meta', 'retriever_scores', 'reranker_scores', 'line_retriever_scores', 'line_reranker_scores', 'reasoner_result', 'reasoner_score'])"
      ]
     },
     "execution_count": 6,
     "metadata": {},
     "output_type": "execute_result"
    }
   ],
   "source": [
    "result.keys()"
   ]
  },
  {
   "cell_type": "code",
   "execution_count": 17,
   "id": "d3d1ea7d-1c66-47a5-afb7-91599950f044",
   "metadata": {},
   "outputs": [
    {
     "name": "stdout",
     "output_type": "stream",
     "text": [
      "\n",
      "=== Performance Table () ===\n",
      "n      NDCG         Hit       \n",
      "1      0.8092       0.6954    \n",
      "2      0.8558       0.7831    \n",
      "3      0.8725       0.8215    \n",
      "4      0.8804       0.8508    \n",
      "5      0.8828       0.8631    \n",
      "10     0.8880       0.8877    \n",
      "15     0.8900       0.9077    \n",
      "20     0.8899       0.9138    \n",
      "25     0.8904       0.9200    \n",
      "50     0.8899       0.9338    \n",
      "100    0.8867       0.9508    \n"
     ]
    }
   ],
   "source": [
    "cutoff_list = [str(num) for num in result['meta']['cutoff_list']]\n",
    "show_retrieval_metrics(cutoff_list,result['retriever_scores'],)"
   ]
  },
  {
   "cell_type": "code",
   "execution_count": 18,
   "id": "529c3485-942f-4d41-88e1-27f9cfe8c639",
   "metadata": {},
   "outputs": [
    {
     "name": "stdout",
     "output_type": "stream",
     "text": [
      "\n",
      "=== Performance Table () ===\n",
      "n      NDCG         Hit       \n",
      "1      0.9523       0.8308    \n",
      "2      0.9698       0.8985    \n",
      "3      0.9720       0.9138    \n",
      "4      0.9719       0.9169    \n",
      "5      0.9716       0.9215    \n",
      "10     0.9716       0.9215    \n",
      "15     0.9716       0.9215    \n",
      "20     0.9716       0.9215    \n",
      "25     0.9716       0.9215    \n",
      "50     0.9716       0.9215    \n",
      "100    0.9716       0.9215    \n"
     ]
    }
   ],
   "source": [
    "show_retrieval_metrics(cutoff_list,result['reranker_scores'],)"
   ]
  },
  {
   "cell_type": "code",
   "execution_count": 19,
   "id": "6b187ecb-67e6-4ecb-a3d1-37adbf0e148b",
   "metadata": {},
   "outputs": [
    {
     "name": "stdout",
     "output_type": "stream",
     "text": [
      "\n",
      "=== Performance Table () ===\n",
      "n      NDCG         Hit       \n",
      "1      0.6800       0.4477    \n",
      "2      0.7208       0.6108    \n",
      "3      0.7710       0.6877    \n",
      "4      0.8095       0.7323    \n",
      "5      0.8423       0.7769    \n",
      "10     0.8991       0.8538    \n",
      "15     0.9177       0.8754    \n",
      "20     0.9283       0.8892    \n",
      "25     0.9342       0.8969    \n",
      "50     0.9513       0.9200    \n",
      "100    0.9528       0.9215    \n"
     ]
    }
   ],
   "source": [
    "show_retrieval_metrics(cutoff_list,result['line_retriever_scores'],)"
   ]
  },
  {
   "cell_type": "code",
   "execution_count": 21,
   "id": "47c0b272-f910-4d57-996c-9e5473abd1e7",
   "metadata": {},
   "outputs": [
    {
     "name": "stdout",
     "output_type": "stream",
     "text": [
      "\n",
      "=== Performance Table () ===\n",
      "n      NDCG         Hit       \n",
      "1      0.7400       0.4923    \n",
      "2      0.7585       0.6538    \n",
      "3      0.8026       0.7308    \n",
      "4      0.8273       0.7615    \n",
      "5      0.8548       0.7985    \n",
      "10     0.8547       0.7985    \n",
      "15     0.8547       0.7985    \n",
      "20     0.8547       0.7985    \n",
      "25     0.8547       0.7985    \n",
      "50     0.8547       0.7985    \n",
      "100    0.8547       0.7985    \n"
     ]
    }
   ],
   "source": [
    "show_retrieval_metrics(cutoff_list,result['line_reranker_scores'],)"
   ]
  },
  {
   "cell_type": "code",
   "execution_count": null,
   "id": "4f16f145-846b-4626-a624-0deaf9d7f721",
   "metadata": {},
   "outputs": [],
   "source": []
  }
 ],
 "metadata": {
  "kernelspec": {
   "display_name": "Python 3 (ipykernel)",
   "language": "python",
   "name": "python3"
  },
  "language_info": {
   "codemirror_mode": {
    "name": "ipython",
    "version": 3
   },
   "file_extension": ".py",
   "mimetype": "text/x-python",
   "name": "python",
   "nbconvert_exporter": "python",
   "pygments_lexer": "ipython3",
   "version": "3.8.10"
  }
 },
 "nbformat": 4,
 "nbformat_minor": 5
}
