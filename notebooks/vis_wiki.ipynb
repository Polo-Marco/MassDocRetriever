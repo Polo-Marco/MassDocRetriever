{
 "cells": [
  {
   "cell_type": "code",
   "execution_count": 4,
   "id": "923de430-707c-448b-a65e-7b5c04af175a",
   "metadata": {},
   "outputs": [],
   "source": [
    "import os\n",
    "from tqdm import tqdm"
   ]
  },
  {
   "cell_type": "code",
   "execution_count": 2,
   "id": "e0cf0ca0-cc0d-462e-ba81-7cdaf1fd1fb6",
   "metadata": {},
   "outputs": [
    {
     "name": "stderr",
     "output_type": "stream",
     "text": [
      "100%|███████████████████████████████████████████████████████████████████████████████████████████████████████████████████████████████████████████████████████████| 24/24 [00:11<00:00,  2.17it/s]\n"
     ]
    },
    {
     "data": {
      "text/plain": [
       "1187751"
      ]
     },
     "execution_count": 2,
     "metadata": {},
     "output_type": "execute_result"
    }
   ],
   "source": [
    "raw = []\n",
    "files = os.listdir(\"./wiki-pages/\")\n",
    "for file in tqdm(files):\n",
    "    with open(\"./wiki-pages/\"+file) as f:\n",
    "        for i in f:\n",
    "            raw.append(json.loads(i))\n",
    "len(raw)"
   ]
  },
  {
   "cell_type": "code",
   "execution_count": 7,
   "id": "712fd253-9268-4050-847a-f5890ba8ea1d",
   "metadata": {},
   "outputs": [
    {
     "data": {
      "text/plain": [
       "50000"
      ]
     },
     "execution_count": 7,
     "metadata": {},
     "output_type": "execute_result"
    }
   ],
   "source": [
    "raw = []\n",
    "with open(\"./wiki-pages/wiki-001.jsonl\") as f:\n",
    "    for i in f:\n",
    "        raw.append(json.loads(i))\n",
    "len(raw)"
   ]
  },
  {
   "cell_type": "code",
   "execution_count": 8,
   "id": "6a5e8ada-1594-4231-9ff4-920a8028205b",
   "metadata": {},
   "outputs": [
    {
     "data": {
      "text/plain": [
       "{'id': '數學',\n",
       " 'text': '數學 ， 是研究數量 、 結構以及空間等概念及其變化的一門學科 ， 屬於形式科學的一種 。 基礎數學的知識與運用是生活中不可或缺的一環 。 對數學基本概念的完善 ， 早在古埃及 、 美索不達米亞及古印度歷史上的古代數學文本便可觀見 ， 而在古希臘那裏有更爲嚴謹的處理 。 從那時開始 ， 數學的發展便持續不斷地小幅進展 ， 至16世紀的文藝復興時期 ， 因爲新的科學發現和數學革新兩者的交互 ， 致使數學的加速發展 ， 直至今日 。 數學併成爲許多國家及地區的教育中的一部分 。',\n",
       " 'lines': '0\\t數學 ， 是研究數量 、 結構以及空間等概念及其變化的一門學科 ， 屬於形式科學的一種 。\\n1\\t\\n2\\t基礎數學的知識與運用是生活中不可或缺的一環 。\\n3\\t對數學基本概念的完善 ， 早在古埃及 、 美索不達米亞及古印度歷史上的古代數學文本便可觀見 ， 而在古希臘那裏有更爲嚴謹的處理 。\\n4\\t從那時開始 ， 數學的發展便持續不斷地小幅進展 ， 至16世紀的文藝復興時期 ， 因爲新的科學發現和數學革新兩者的交互 ， 致使數學的加速發展 ， 直至今日 。\\n5\\t數學併成爲許多國家及地區的教育中的一部分 。\\n6\\t\\n7\\t'}"
      ]
     },
     "execution_count": 8,
     "metadata": {},
     "output_type": "execute_result"
    }
   ],
   "source": [
    "raw[0]"
   ]
  },
  {
   "cell_type": "code",
   "execution_count": 9,
   "id": "b860dade-bed3-4551-b275-a79d8d054aef",
   "metadata": {},
   "outputs": [
    {
     "data": {
      "text/plain": [
       "{'id': '文學',\n",
       " 'text': '文學 （ literature ） ， 在狹義上 ， 是一種語言藝術 ， 亦即使用語言文字爲手段 ， 形象化地反映客觀社會生活 、 表達主觀作者思想感情的一種藝術 。 文學不僅強調傳達思想觀念 ， 更強調傳達方式的獨特性 ， 且講究辭章的美感 。 文學 ， 在廣義上 ， 是任何單一的書面作品 ， 或用文字寫作來傳達思想 、 表達情感 、 發揮想像的所有著作 ， 此時又稱文學作品 。 文學寫作則是一種藝術形式 ， 或被認爲具有藝術或智力價值的任何單一作品 ， 通常是由於以不同於普通用途的方式部署語言 。 中國先秦時期將以文字寫成的作品都統稱爲文學 ， 魏晉以後才逐漸將文學作品單獨列出 。 文學並不一定是客觀的 ， 一名成功的文學家能在自己的文學作品中 ， 展現自己對於文學的主觀看法 ， 抒發自己的情緒和感觸 ， 但藉由嘗試建立一個 「 客觀的標準 」 ， 有時對能幫助作家瞭解 「 讀者的感受 」 以求將內心之情感與藝術表現完整的體現在讀者心中 。 有時也能藉作家主觀想法 ， 讓社會有不同面相去省思現況 ， 例如女性文學的興起 。',\n",
       " 'lines': '0\\t文學 （ literature ） ， 在狹義上 ， 是一種語言藝術 ， 亦即使用語言文字爲手段 ， 形象化地反映客觀社會生活 、 表達主觀作者思想感情的一種藝術 。\\n1\\t文學不僅強調傳達思想觀念 ， 更強調傳達方式的獨特性 ， 且講究辭章的美感 。\\n2\\t\\n3\\t\\n4\\t文學 ， 在廣義上 ， 是任何單一的書面作品 ， 或用文字寫作來傳達思想 、 表達情感 、 發揮想像的所有著作 ， 此時又稱文學作品 。\\n5\\t文學寫作則是一種藝術形式 ， 或被認爲具有藝術或智力價值的任何單一作品 ， 通常是由於以不同於普通用途的方式部署語言 。\\n6\\t中國先秦時期將以文字寫成的作品都統稱爲文學 ， 魏晉以後才逐漸將文學作品單獨列出 。\\n7\\t\\n8\\t\\n9\\t文學並不一定是客觀的 ， 一名成功的文學家能在自己的文學作品中 ， 展現自己對於文學的主觀看法 ， 抒發自己的情緒和感觸 ， 但藉由嘗試建立一個 「 客觀的標準 」 ， 有時對能幫助作家瞭解 「 讀者的感受 」 以求將內心之情感與藝術表現完整的體現在讀者心中 。\\n10\\t\\n11\\t\\n12\\t有時也能藉作家主觀想法 ， 讓社會有不同面相去省思現況 ， 例如女性文學的興起 。\\n13\\t'}"
      ]
     },
     "execution_count": 9,
     "metadata": {},
     "output_type": "execute_result"
    }
   ],
   "source": [
    "raw[1]"
   ]
  },
  {
   "cell_type": "code",
   "execution_count": 5,
   "id": "4cfb5427-1d0f-4080-a6ab-ca696946ed86",
   "metadata": {},
   "outputs": [
    {
     "data": {
      "text/plain": [
       "1187751"
      ]
     },
     "execution_count": 5,
     "metadata": {},
     "output_type": "execute_result"
    }
   ],
   "source": [
    "len(raw)"
   ]
  },
  {
   "cell_type": "code",
   "execution_count": null,
   "id": "04b822cd-7117-4f1e-895c-78a951d9d22f",
   "metadata": {},
   "outputs": [],
   "source": []
  }
 ],
 "metadata": {
  "kernelspec": {
   "display_name": "Python 3 (ipykernel)",
   "language": "python",
   "name": "python3"
  },
  "language_info": {
   "codemirror_mode": {
    "name": "ipython",
    "version": 3
   },
   "file_extension": ".py",
   "mimetype": "text/x-python",
   "name": "python",
   "nbconvert_exporter": "python",
   "pygments_lexer": "ipython3",
   "version": "3.8.10"
  }
 },
 "nbformat": 4,
 "nbformat_minor": 5
}
